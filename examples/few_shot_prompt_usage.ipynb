{
    "cells": [
        {
            "cell_type": "code",
            "execution_count": 1,
            "metadata": {},
            "outputs": [],
            "source": [
                "import json\n",
                "from quality_prompts.prompt import QualityPrompt\n",
                "from quality_prompts.exemplars import ExemplarStore, Exemplar\n",
                "from quality_prompts.utils.llm import get_embedding"
            ]
        },
        {
            "cell_type": "code",
            "execution_count": 2,
            "metadata": {},
            "outputs": [],
            "source": [
                "with open(\"examples/sample_exemplars.json\", \"r\") as f:\n",
                "    sample_exemplars = json.load(f)\n",
                "\n",
                "exemplars = [Exemplar(input=e['input'], label=str(e['label']), input_embedding=get_embedding(e['input'])) for e in sample_exemplars]\n",
                "exemplar_store = ExemplarStore(exemplars=exemplars)"
            ]
        },
        {
            "cell_type": "code",
            "execution_count": 3,
            "metadata": {},
            "outputs": [],
            "source": [
                "directive = \"\"\"You are given a document and your task is to create a knowledge graph from it.\"\"\"\n",
                "\n",
                "additional_information = \"\"\"\n",
                "In the knowledge graph, entities such as people, places, objects, institutions, topics, ideas, etc. are represented as nodes.\n",
                "Whereas the relationships and actions between them are represented as edges.\n",
                "\"\"\"\n",
                "\n",
                "output_formatting = \"\"\"\n",
                "You will respond with a knowledge graph in the given JSON format:\n",
                "\n",
                "[\n",
                "    {\"entity\" : \"Entity_name\", \"connections\" : [\n",
                "        {\"entity\" : \"Connected_entity_1\", \"relationship\" : \"Relationship_with_connected_entity_1},\n",
                "        {\"entity\" : \"Connected_entity_2\", \"relationship\" : \"Relationship_with_connected_entity_2},\n",
                "        ]\n",
                "    },\n",
                "    {\"entity\" : \"Entity_name\", \"connections\" : [\n",
                "        {\"entity\" : \"Connected_entity_1\", \"relationship\" : \"Relationship_with_connected_entity_1},\n",
                "        {\"entity\" : \"Connected_entity_2\", \"relationship\" : \"Relationship_with_connected_entity_2},\n",
                "        ]\n",
                "    },\n",
                "]\n",
                "\n",
                "You must strictly respond in the given JSON format or your response will not be parsed correctly!\n",
                "\"\"\"\n",
                "\n",
                "prompt = QualityPrompt(\n",
                "                        directive=directive,\n",
                "                        additional_information=additional_information,\n",
                "                        output_formatting=output_formatting,\n",
                "                        exemplar_store=exemplar_store\n",
                "                       )"
            ]
        },
        {
            "cell_type": "code",
            "execution_count": 4,
            "metadata": {},
            "outputs": [],
            "source": [
                "input_text = \"list the disorders included in cvd\""
            ]
        },
        {
            "cell_type": "code",
            "execution_count": 5,
            "metadata": {},
            "outputs": [],
            "source": [
                "prompt.few_shot(input_text=input_text, n_shots=2)"
            ]
        },
        {
            "cell_type": "code",
            "execution_count": 6,
            "metadata": {},
            "outputs": [
                {
                    "data": {
                        "text/plain": [
                            "[Exemplar(input='Cardiovascular disease (CVD) encompasses a spectrum of disorders involving the heart and vasculature, prominently including atherosclerosis, characterized by endothelial dysfunction and the accumulation of lipid-laden plaques. These pathophysiological processes often precipitate myocardial infarction and cerebrovascular accidents, arising from the rupture of vulnerable plaques and subsequent thrombogenesis.', label=\"[{'entity': 'cardiovascular disease (cvd)', 'connections': [{'entity': 'heart', 'relationship': 'involves'}, {'entity': 'vasculature', 'relationship': 'involves'}, {'entity': 'atherosclerosis', 'relationship': 'associated disorder'}, {'entity': 'endothelial dysfunction', 'relationship': 'characteristic feature'}, {'entity': 'lipid-laden plaques', 'relationship': 'associated feature'}, {'entity': 'myocardial infarction', 'relationship': 'common complication'}, {'entity': 'cerebrovascular accidents', 'relationship': 'common complication'}, {'entity': 'plaque rupture', 'relationship': 'cause of complications'}, {'entity': 'thrombogenesis', 'relationship': 'subsequent process'}]}, {'entity': 'atherosclerosis', 'connections': [{'entity': 'endothelial dysfunction', 'relationship': 'causes'}, {'entity': 'lipid-laden plaques', 'relationship': 'result of'}, {'entity': 'plaque rupture', 'relationship': 'leads to complications'}]}]\", input_embedding=[0.15, 0.25, 0.35]),\n",
                            " Exemplar(input='Management of cardiovascular disease necessitates a multifaceted approach involving antihypertensive agents, statins to modulate dyslipidemia, and antiplatelet therapy to mitigate thrombosis risk.', label=\"[{'entity': 'cardiovascular disease', 'connections': [{'entity': 'antihypertensive agents', 'relationship': 'involves management'}, {'entity': 'statins', 'relationship': 'modulates dyslipidemia'}, {'entity': 'antiplatelet therapy', 'relationship': 'mitigates thrombosis risk'}]}]\", input_embedding=[0.15, 0.25, 0.35])]"
                        ]
                    },
                    "execution_count": 6,
                    "metadata": {},
                    "output_type": "execute_result"
                }
            ],
            "source": [
                "prompt.few_shot_examples"
            ]
        },
        {
            "cell_type": "code",
            "execution_count": 7,
            "metadata": {},
            "outputs": [
                {
                    "name": "stdout",
                    "output_type": "stream",
                    "text": [
                        "You are given a document and your task is to create a knowledge graph from it.\n",
                        "        \n",
                        "In the knowledge graph, entities such as people, places, objects, institutions, topics, ideas, etc. are represented as nodes.\n",
                        "Whereas the relationships and actions between them are represented as edges.\n",
                        "\n",
                        "        Example input: Cardiovascular disease (CVD) encompasses a spectrum of disorders involving the heart and vasculature, prominently including atherosclerosis, characterized by endothelial dysfunction and the accumulation of lipid-laden plaques. These pathophysiological processes often precipitate myocardial infarction and cerebrovascular accidents, arising from the rupture of vulnerable plaques and subsequent thrombogenesis.\n",
                        "Example output: [{'entity': 'cardiovascular disease (cvd)', 'connections': [{'entity': 'heart', 'relationship': 'involves'}, {'entity': 'vasculature', 'relationship': 'involves'}, {'entity': 'atherosclerosis', 'relationship': 'associated disorder'}, {'entity': 'endothelial dysfunction', 'relationship': 'characteristic feature'}, {'entity': 'lipid-laden plaques', 'relationship': 'associated feature'}, {'entity': 'myocardial infarction', 'relationship': 'common complication'}, {'entity': 'cerebrovascular accidents', 'relationship': 'common complication'}, {'entity': 'plaque rupture', 'relationship': 'cause of complications'}, {'entity': 'thrombogenesis', 'relationship': 'subsequent process'}]}, {'entity': 'atherosclerosis', 'connections': [{'entity': 'endothelial dysfunction', 'relationship': 'causes'}, {'entity': 'lipid-laden plaques', 'relationship': 'result of'}, {'entity': 'plaque rupture', 'relationship': 'leads to complications'}]}]\n",
                        "\n",
                        "Example input: Management of cardiovascular disease necessitates a multifaceted approach involving antihypertensive agents, statins to modulate dyslipidemia, and antiplatelet therapy to mitigate thrombosis risk.\n",
                        "Example output: [{'entity': 'cardiovascular disease', 'connections': [{'entity': 'antihypertensive agents', 'relationship': 'involves management'}, {'entity': 'statins', 'relationship': 'modulates dyslipidemia'}, {'entity': 'antiplatelet therapy', 'relationship': 'mitigates thrombosis risk'}]}]\n",
                        "\n",
                        "        \n",
                        "You will respond with a knowledge graph in the given JSON format:\n",
                        "\n",
                        "[\n",
                        "    {\"entity\" : \"Entity_name\", \"connections\" : [\n",
                        "        {\"entity\" : \"Connected_entity_1\", \"relationship\" : \"Relationship_with_connected_entity_1},\n",
                        "        {\"entity\" : \"Connected_entity_2\", \"relationship\" : \"Relationship_with_connected_entity_2},\n",
                        "        ]\n",
                        "    },\n",
                        "    {\"entity\" : \"Entity_name\", \"connections\" : [\n",
                        "        {\"entity\" : \"Connected_entity_1\", \"relationship\" : \"Relationship_with_connected_entity_1},\n",
                        "        {\"entity\" : \"Connected_entity_2\", \"relationship\" : \"Relationship_with_connected_entity_2},\n",
                        "        ]\n",
                        "    },\n",
                        "]\n",
                        "\n",
                        "You must strictly respond in the given JSON format or your response will not be parsed correctly!\n",
                        "\n",
                        "        \n"
                    ]
                }
            ],
            "source": [
                "print(prompt.compile())"
            ]
        },
        {
            "cell_type": "code",
            "execution_count": null,
            "metadata": {},
            "outputs": [],
            "source": []
        }
    ],
    "metadata": {
        "kernelspec": {
            "display_name": "base",
            "language": "python",
            "name": "python3"
        },
        "language_info": {
            "codemirror_mode": {
                "name": "ipython",
                "version": 3
            },
            "file_extension": ".py",
            "mimetype": "text/x-python",
            "name": "python",
            "nbconvert_exporter": "python",
            "pygments_lexer": "ipython3",
            "version": "3.12.2"
        }
    },
    "nbformat": 4,
    "nbformat_minor": 2
}